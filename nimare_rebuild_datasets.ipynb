{
 "cells": [
  {
   "cell_type": "code",
   "execution_count": 1,
   "metadata": {},
   "outputs": [],
   "source": [
    "import os\n",
    "\n",
    "import nimare\n",
    "from nimare.tests.utils import get_test_data_path"
   ]
  },
  {
   "cell_type": "code",
   "execution_count": 2,
   "metadata": {},
   "outputs": [
    {
     "name": "stderr",
     "output_type": "stream",
     "text": [
      "WARNING:nimare.utils:Not applying transforms to coordinates in unrecognized space \"UNKNOWN\"\n"
     ]
    }
   ],
   "source": [
    "dset = nimare.io.convert_neurosynth_to_dataset(\n",
    "    '/Users/tsalo/Desktop/ns-dataset/database.txt',\n",
    "    '/Users/tsalo/Desktop/ns-dataset/features.txt')"
   ]
  },
  {
   "cell_type": "code",
   "execution_count": 3,
   "metadata": {},
   "outputs": [],
   "source": [
    "dset.save('/Users/tsalo/Desktop/ns-dataset/neurosynth_v0_0_4.pkl.gz')"
   ]
  },
  {
   "cell_type": "code",
   "execution_count": 4,
   "metadata": {},
   "outputs": [
    {
     "data": {
      "text/html": [
       "<div>\n",
       "<style scoped>\n",
       "    .dataframe tbody tr th:only-of-type {\n",
       "        vertical-align: middle;\n",
       "    }\n",
       "\n",
       "    .dataframe tbody tr th {\n",
       "        vertical-align: top;\n",
       "    }\n",
       "\n",
       "    .dataframe thead th {\n",
       "        text-align: right;\n",
       "    }\n",
       "</style>\n",
       "<table border=\"1\" class=\"dataframe\">\n",
       "  <thead>\n",
       "    <tr style=\"text-align: right;\">\n",
       "      <th></th>\n",
       "      <th>id</th>\n",
       "      <th>study_id</th>\n",
       "      <th>contrast_id</th>\n",
       "      <th>authors</th>\n",
       "      <th>journal</th>\n",
       "      <th>year</th>\n",
       "      <th>title</th>\n",
       "    </tr>\n",
       "  </thead>\n",
       "  <tbody>\n",
       "    <tr>\n",
       "      <th>0</th>\n",
       "      <td>9065511-1</td>\n",
       "      <td>9065511</td>\n",
       "      <td>1</td>\n",
       "      <td>Aguirre GK, D'Esposito M</td>\n",
       "      <td>The Journal of neuroscience : the official jou...</td>\n",
       "      <td>1997</td>\n",
       "      <td>Environmental knowledge is subserved by separa...</td>\n",
       "    </tr>\n",
       "    <tr>\n",
       "      <th>1</th>\n",
       "      <td>9084599-1</td>\n",
       "      <td>9084599</td>\n",
       "      <td>1</td>\n",
       "      <td>Jueptner M, Stephan KM, Frith CD, Brooks DJ, F...</td>\n",
       "      <td>Journal of neurophysiology</td>\n",
       "      <td>1997</td>\n",
       "      <td>Anatomy of motor learning. I. Frontal cortex a...</td>\n",
       "    </tr>\n",
       "    <tr>\n",
       "      <th>2</th>\n",
       "      <td>9114263-1</td>\n",
       "      <td>9114263</td>\n",
       "      <td>1</td>\n",
       "      <td>Fink GR, Frackowiak RS, Pietrzyk U, Passingham RE</td>\n",
       "      <td>Journal of neurophysiology</td>\n",
       "      <td>1997</td>\n",
       "      <td>Multiple nonprimary motor areas in the human c...</td>\n",
       "    </tr>\n",
       "    <tr>\n",
       "      <th>3</th>\n",
       "      <td>9185551-1</td>\n",
       "      <td>9185551</td>\n",
       "      <td>1</td>\n",
       "      <td>Small DM, Jones-Gotman M, Zatorre RJ, Petrides...</td>\n",
       "      <td>The Journal of neuroscience : the official jou...</td>\n",
       "      <td>1997</td>\n",
       "      <td>A role for the right anterior temporal lobe in...</td>\n",
       "    </tr>\n",
       "    <tr>\n",
       "      <th>4</th>\n",
       "      <td>9256495-1</td>\n",
       "      <td>9256495</td>\n",
       "      <td>1</td>\n",
       "      <td>Sahraie A, Weiskrantz L, Barbur JL, Simmons A,...</td>\n",
       "      <td>Proceedings of the National Academy of Science...</td>\n",
       "      <td>1997</td>\n",
       "      <td>Pattern of neuronal activity associated with c...</td>\n",
       "    </tr>\n",
       "  </tbody>\n",
       "</table>\n",
       "</div>"
      ],
      "text/plain": [
       "          id study_id contrast_id  \\\n",
       "0  9065511-1  9065511           1   \n",
       "1  9084599-1  9084599           1   \n",
       "2  9114263-1  9114263           1   \n",
       "3  9185551-1  9185551           1   \n",
       "4  9256495-1  9256495           1   \n",
       "\n",
       "                                             authors  \\\n",
       "0                           Aguirre GK, D'Esposito M   \n",
       "1  Jueptner M, Stephan KM, Frith CD, Brooks DJ, F...   \n",
       "2  Fink GR, Frackowiak RS, Pietrzyk U, Passingham RE   \n",
       "3  Small DM, Jones-Gotman M, Zatorre RJ, Petrides...   \n",
       "4  Sahraie A, Weiskrantz L, Barbur JL, Simmons A,...   \n",
       "\n",
       "                                             journal  year  \\\n",
       "0  The Journal of neuroscience : the official jou...  1997   \n",
       "1                         Journal of neurophysiology  1997   \n",
       "2                         Journal of neurophysiology  1997   \n",
       "3  The Journal of neuroscience : the official jou...  1997   \n",
       "4  Proceedings of the National Academy of Science...  1997   \n",
       "\n",
       "                                               title  \n",
       "0  Environmental knowledge is subserved by separa...  \n",
       "1  Anatomy of motor learning. I. Frontal cortex a...  \n",
       "2  Multiple nonprimary motor areas in the human c...  \n",
       "3  A role for the right anterior temporal lobe in...  \n",
       "4  Pattern of neuronal activity associated with c...  "
      ]
     },
     "execution_count": 4,
     "metadata": {},
     "output_type": "execute_result"
    }
   ],
   "source": [
    "dset.metadata.head()"
   ]
  },
  {
   "cell_type": "code",
   "execution_count": 5,
   "metadata": {},
   "outputs": [],
   "source": [
    "import pandas as pd\n",
    "df = pd.read_table('/Users/tsalo/Desktop/ns-dataset/database.txt')"
   ]
  },
  {
   "cell_type": "code",
   "execution_count": 6,
   "metadata": {},
   "outputs": [],
   "source": [
    "df2 = df.loc[df['authors'].str.contains('Laird')]"
   ]
  },
  {
   "cell_type": "code",
   "execution_count": 7,
   "metadata": {},
   "outputs": [
    {
     "data": {
      "text/plain": [
       "['17029760-1',\n",
       " '18760263-1',\n",
       " '19162389-1',\n",
       " '19603407-1',\n",
       " '20197097-1',\n",
       " '22569543-1',\n",
       " '22659444-1',\n",
       " '23042731-1',\n",
       " '23702412-1',\n",
       " '24681401-1',\n",
       " '24844743-1',\n",
       " '25662104-1',\n",
       " '25733379-1']"
      ]
     },
     "execution_count": 7,
     "metadata": {},
     "output_type": "execute_result"
    }
   ],
   "source": [
    "ids = ['{}-1'.format(i) for i in df2['id'].unique()]\n",
    "ids"
   ]
  },
  {
   "cell_type": "code",
   "execution_count": 8,
   "metadata": {},
   "outputs": [],
   "source": [
    "laird_dset = dset.slice(ids)"
   ]
  },
  {
   "cell_type": "code",
   "execution_count": 9,
   "metadata": {},
   "outputs": [],
   "source": [
    "# laird_dset.save(os.path.join(get_test_data_path(), 'neurosynth_laird_studies.pkl.gz'))"
   ]
  },
  {
   "cell_type": "code",
   "execution_count": 10,
   "metadata": {},
   "outputs": [
    {
     "name": "stderr",
     "output_type": "stream",
     "text": [
      "INFO:nimare.extract.extract:Downloading chunk 1 of 1\n"
     ]
    }
   ],
   "source": [
    "laird_dset = nimare.extract.download_abstracts(laird_dset, email='tsalo006@fiu.edu')"
   ]
  },
  {
   "cell_type": "code",
   "execution_count": 11,
   "metadata": {},
   "outputs": [],
   "source": [
    "laird_dset.save(os.path.join(get_test_data_path(), 'neurosynth_laird_studies.pkl.gz'))"
   ]
  }
 ],
 "metadata": {
  "kernelspec": {
   "display_name": "Python [conda env:python3]",
   "language": "python",
   "name": "conda-env-python3-py"
  },
  "language_info": {
   "codemirror_mode": {
    "name": "ipython",
    "version": 3
   },
   "file_extension": ".py",
   "mimetype": "text/x-python",
   "name": "python",
   "nbconvert_exporter": "python",
   "pygments_lexer": "ipython3",
   "version": "3.6.4"
  }
 },
 "nbformat": 4,
 "nbformat_minor": 2
}
